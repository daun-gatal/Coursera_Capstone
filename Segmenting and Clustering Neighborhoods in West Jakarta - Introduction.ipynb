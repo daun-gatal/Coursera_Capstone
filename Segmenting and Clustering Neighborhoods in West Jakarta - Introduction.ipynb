{
 "cells": [
  {
   "cell_type": "markdown",
   "metadata": {},
   "source": [
    "<a href=\"https://cognitiveclass.ai\"><img src = \"https://ibm.box.com/shared/static/9gegpsmnsoo25ikkbl4qzlvlyjbgxs5x.png\" width = 400> </a>\n",
    "\n",
    "<h1 align=center><font size = 5>Segmenting and Clustering Neighborhoods in West Jakarta</font></h1>"
   ]
  },
  {
   "cell_type": "markdown",
   "metadata": {},
   "source": [
    "## Introduction/Business Problem\n",
    "\n",
    "DKI Jakarta is a metropolitan area in Indonesia. West Jakarta is one of the city in the DKI Jakarta area. Many people who come to West Jakarta for continue their education at university, work and others. To support these needs, many people are looking for a place to live that is in the vicinity of these needs. So people need a quick overview of which neighborhoods they will choose in West Jakarta that can facilitate their activities. Based on this problem, clustering is one approach that can solve this problem. With clustering, we can see which neihgborhoods in West Jakarta have residential areas or apartments around universities, workplaces, places to eat and others. Especially for those who are Muslims can see the area of ​​residence or apartment they will choose, have a halal eating places and places of worship around the residence or the apartment or not."
   ]
  },
  {
   "cell_type": "markdown",
   "metadata": {},
   "source": [
    "## Data\n",
    "\n",
    "First, I would like to parse neighborhoods which are districts in West Jakarta at the link https://en.wikipedia.org/wiki/West_Jakarta. Next, every neighborhood I will determine latitude and longitude using a geocoder. Then, for each neighborhood in West Jakarta, I will look for apartments in the neighborhood using Foursquare api and determine the latitude and longitude of the apartment. The final step in this stage to collecting data is to determine the nearest venues (1 km from the apartement) using the foursquare api with the conditions already mentioned in the previous business problem."
   ]
  },
  {
   "cell_type": "markdown",
   "metadata": {},
   "source": [
    "This table is show the neighborhoods in West Jakarta. I get the latitude and longitude using geocoder.\n",
    "\n",
    "| Neighborhoods         | Latitude | Longitude |\n",
    "|--------------------|---------|----------|\n",
    "| Cengkareng                | -6.152899       | 106.744718        |\n",
    "| Grogol Petamburan      | -6.164188       | 106.788317        |\n",
    "| Kalideres                | -6.137006       | 106.701594        |\n",
    "| Kebon Jeruk      | -6.192572        |106.769725 |\n",
    "| Kembangan               | -6.191395       | 106.740586        |\n",
    "| Palmerah      | -6.191002        |106.794363|\n",
    "| Taman Sari                | -6.146142      | 106.818499        |\n",
    "| Tambora | -6.146614        |106.801046|"
   ]
  }
 ],
 "metadata": {
  "kernelspec": {
   "display_name": "Python 3",
   "language": "python",
   "name": "python3"
  },
  "language_info": {
   "codemirror_mode": {
    "name": "ipython",
    "version": 3
   },
   "file_extension": ".py",
   "mimetype": "text/x-python",
   "name": "python",
   "nbconvert_exporter": "python",
   "pygments_lexer": "ipython3",
   "version": "3.7.6"
  }
 },
 "nbformat": 4,
 "nbformat_minor": 4
}
